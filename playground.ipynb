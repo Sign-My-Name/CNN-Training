{
 "cells": [
  {
   "cell_type": "code",
   "execution_count": 3,
   "id": "71c76d48",
   "metadata": {},
   "outputs": [
    {
     "name": "stdout",
     "output_type": "stream",
     "text": [
      "Mon Apr  1 00:21:16 2024       \n",
      "+-----------------------------------------------------------------------------------------+\n",
      "| NVIDIA-SMI 551.86                 Driver Version: 551.86         CUDA Version: 12.4     |\n",
      "|-----------------------------------------+------------------------+----------------------+\n",
      "| GPU  Name                     TCC/WDDM  | Bus-Id          Disp.A | Volatile Uncorr. ECC |\n",
      "| Fan  Temp   Perf          Pwr:Usage/Cap |           Memory-Usage | GPU-Util  Compute M. |\n",
      "|                                         |                        |               MIG M. |\n",
      "|=========================================+========================+======================|\n",
      "|   0  NVIDIA GeForce GTX 1080 Ti   WDDM  |   00000000:0A:00.0  On |                  N/A |\n",
      "|  0%   40C    P8             18W /  280W |     966MiB /  11264MiB |     12%      Default |\n",
      "|                                         |                        |                  N/A |\n",
      "+-----------------------------------------+------------------------+----------------------+\n",
      "                                                                                         \n",
      "+-----------------------------------------------------------------------------------------+\n",
      "| Processes:                                                                              |\n",
      "|  GPU   GI   CI        PID   Type   Process name                              GPU Memory |\n",
      "|        ID   ID                                                               Usage      |\n",
      "|=========================================================================================|\n",
      "|    0   N/A  N/A      2156    C+G   ...a\\AppData\\Roaming\\Zoom\\bin\\Zoom.exe      N/A      |\n",
      "|    0   N/A  N/A     10644    C+G   ... Synapse 3 Host\\Razer Synapse 3.exe      N/A      |\n",
      "|    0   N/A  N/A     42692    C+G   ...GeForce Experience\\NVIDIA Share.exe      N/A      |\n",
      "|    0   N/A  N/A     47516    C+G   ...tionsPlus\\logioptionsplus_agent.exe      N/A      |\n",
      "|    0   N/A  N/A     49736    C+G   ...B\\system_tray\\lghub_system_tray.exe      N/A      |\n",
      "|    0   N/A  N/A     51304    C+G   C:\\Windows\\System32\\Taskmgr.exe             N/A      |\n",
      "|    0   N/A  N/A     51308    C+G   C:\\Windows\\System32\\dwm.exe                 N/A      |\n",
      "|    0   N/A  N/A     53692    C+G   ...m Files\\Mozilla Firefox\\firefox.exe      N/A      |\n",
      "|    0   N/A  N/A     55944    C+G   ...auncher\\PowerToys.PowerLauncher.exe      N/A      |\n",
      "|    0   N/A  N/A     59688    C+G   ...1.0_x64__8wekyb3d8bbwe\\Video.UI.exe      N/A      |\n",
      "|    0   N/A  N/A     61552    C+G   ...t.LockApp_cw5n1h2txyewy\\LockApp.exe      N/A      |\n",
      "|    0   N/A  N/A     61680    C+G   ...m Files\\Mozilla Firefox\\firefox.exe      N/A      |\n",
      "|    0   N/A  N/A     61932    C+G   ...Programs\\Microsoft VS Code\\Code.exe      N/A      |\n",
      "|    0   N/A  N/A     62796    C+G   ...on\\123.0.2420.65\\msedgewebview2.exe      N/A      |\n",
      "|    0   N/A  N/A     63420    C+G   ...on\\123.0.2420.65\\msedgewebview2.exe      N/A      |\n",
      "|    0   N/A  N/A     63904    C+G   ...rPicker\\PowerToys.ColorPickerUI.exe      N/A      |\n",
      "|    0   N/A  N/A     64196    C+G   ...5n1h2txyewy\\ShellExperienceHost.exe      N/A      |\n",
      "|    0   N/A  N/A     66480    C+G   ...2txyewy\\StartMenuExperienceHost.exe      N/A      |\n",
      "|    0   N/A  N/A     66496    C+G   ...GeForce Experience\\NVIDIA Share.exe      N/A      |\n",
      "|    0   N/A  N/A     66944    C+G   ...siveControlPanel\\SystemSettings.exe      N/A      |\n",
      "|    0   N/A  N/A     71552    C+G   ...wekyb3d8bbwe\\XboxGameBarWidgets.exe      N/A      |\n",
      "|    0   N/A  N/A     72644    C+G   ...nt.CBS_cw5n1h2txyewy\\SearchHost.exe      N/A      |\n",
      "|    0   N/A  N/A     72712    C+G   ...a\\Local\\slack\\app-4.37.98\\slack.exe      N/A      |\n",
      "|    0   N/A  N/A     73748    C+G   C:\\Windows\\explorer.exe                     N/A      |\n",
      "|    0   N/A  N/A     74620    C+G   ...FancyZones\\PowerToys.FancyZones.exe      N/A      |\n",
      "|    0   N/A  N/A     76256    C+G   ...CBS_cw5n1h2txyewy\\TextInputHost.exe      N/A      |\n",
      "+-----------------------------------------------------------------------------------------+\n"
     ]
    }
   ],
   "source": [
    "!nvidia-smi\n"
   ]
  },
  {
   "cell_type": "code",
   "execution_count": 2,
   "id": "71c45fe5ba300d9a",
   "metadata": {
    "ExecuteTime": {
     "end_time": "2024-03-31T20:11:26.986019Z",
     "start_time": "2024-03-31T20:11:14.821310Z"
    },
    "collapsed": false
   },
   "outputs": [],
   "source": [
    "import torch\n",
    "import torch.nn as nn\n",
    "from torchvision import datasets, transforms\n",
    "from torch.utils.data import DataLoader\n",
    "\n",
    "from cnn import CNN"
   ]
  },
  {
   "cell_type": "code",
   "execution_count": 5,
   "id": "a7c93a3a",
   "metadata": {},
   "outputs": [
    {
     "name": "stdout",
     "output_type": "stream",
     "text": [
      "NVIDIA GeForce GTX 1080 Ti\n",
      "2.2.2+cu121\n",
      "12.1\n",
      "tensor([0.5898], device='cuda:0')\n"
     ]
    }
   ],
   "source": [
    "print(torch.cuda.get_device_name())\n",
    "print(torch.__version__)\n",
    "print(torch.version.cuda)\n",
    "x = torch.randn(1).cuda()\n",
    "print(x)"
   ]
  },
  {
   "cell_type": "code",
   "execution_count": 3,
   "id": "c7e429e7f3129f34",
   "metadata": {
    "ExecuteTime": {
     "start_time": "2024-03-31T17:24:09.513136Z"
    },
    "collapsed": false
   },
   "outputs": [],
   "source": [
    "transform = transforms.Compose([\n",
    "        transforms.Resize(256),\n",
    "        transforms.CenterCrop(256),\n",
    "        transforms.ToTensor(),\n",
    "        transforms.Normalize(mean=[0.485, 0.456, 0.406], std=[0.229, 0.224, 0.225])\n",
    "    ])\n",
    "\n",
    "train_dataset = datasets.ImageFolder(root='./data/train_images', transform=transform)"
   ]
  },
  {
   "cell_type": "code",
   "execution_count": 4,
   "id": "a68357c16bd0eed0",
   "metadata": {
    "collapsed": false
   },
   "outputs": [
    {
     "name": "stdout",
     "output_type": "stream",
     "text": [
      "cuda\n"
     ]
    }
   ],
   "source": [
    "batch_size = 64\n",
    "num_classes = 16\n",
    "learning_rate = 0.001\n",
    "epochs = 100\n",
    "device = 'cuda' if torch.cuda.is_available() else 'cpu'\n",
    "print(device)"
   ]
  },
  {
   "cell_type": "code",
   "execution_count": 5,
   "id": "e80c211c5651bde6",
   "metadata": {
    "collapsed": false
   },
   "outputs": [
    {
     "name": "stdout",
     "output_type": "stream",
     "text": [
      "hello world\n"
     ]
    }
   ],
   "source": [
    "train_loader = DataLoader(train_dataset, batch_size=batch_size, shuffle=True, num_workers=4)\n",
    "model = CNN(num_classes)\n",
    "model.to(device)\n",
    "criterion = nn.CrossEntropyLoss()\n",
    "optimizer = torch.optim.SGD(model.parameters(), lr=learning_rate)"
   ]
  },
  {
   "cell_type": "code",
   "execution_count": 9,
   "id": "159d6e956f2e967c",
   "metadata": {
    "collapsed": false
   },
   "outputs": [],
   "source": [
    "\n",
    "stuff = next(iter(train_loader))"
   ]
  },
  {
   "cell_type": "code",
   "execution_count": 10,
   "id": "96ff8cf4",
   "metadata": {},
   "outputs": [
    {
     "data": {
      "text/plain": [
       "2"
      ]
     },
     "execution_count": 10,
     "metadata": {},
     "output_type": "execute_result"
    }
   ],
   "source": [
    "len(stuff)"
   ]
  },
  {
   "cell_type": "code",
   "execution_count": 12,
   "id": "cada46be",
   "metadata": {},
   "outputs": [
    {
     "name": "stdout",
     "output_type": "stream",
     "text": [
      "Epoch: 0/100 | Loss: 0.011013511568307877\n",
      "Epoch: 1/100 | Loss: 0.013016574084758759\n",
      "Epoch: 2/100 | Loss: 0.0030471468344330788\n",
      "Epoch: 3/100 | Loss: 0.002511617261916399\n",
      "Epoch: 4/100 | Loss: 0.001695512910373509\n",
      "Epoch: 5/100 | Loss: 0.0012688429560512304\n",
      "Epoch: 6/100 | Loss: 0.001855165115557611\n",
      "Epoch: 7/100 | Loss: 0.0014490571338683367\n",
      "Epoch: 8/100 | Loss: 0.0007839398458600044\n",
      "Epoch: 9/100 | Loss: 0.00045531016075983644\n",
      "Epoch: 10/100 | Loss: 0.001208534580655396\n",
      "Epoch: 11/100 | Loss: 0.0006764867575839162\n",
      "Epoch: 12/100 | Loss: 0.0004124620172660798\n",
      "Epoch: 13/100 | Loss: 0.0006756765069440007\n",
      "Epoch: 14/100 | Loss: 0.000395368377212435\n",
      "Epoch: 15/100 | Loss: 0.0017528976313769817\n",
      "Epoch: 16/100 | Loss: 0.0006483591860160232\n",
      "Epoch: 17/100 | Loss: 0.00036375594208948314\n",
      "Epoch: 18/100 | Loss: 0.0006757167284376919\n",
      "Epoch: 19/100 | Loss: 0.0003619455674197525\n",
      "Epoch: 20/100 | Loss: 0.00024890981148928404\n",
      "Epoch: 21/100 | Loss: 0.00023950317699927837\n",
      "Epoch: 22/100 | Loss: 0.0004267044714652002\n",
      "Epoch: 23/100 | Loss: 0.0007508588023483753\n",
      "Epoch: 24/100 | Loss: 0.0002418673102511093\n",
      "Epoch: 25/100 | Loss: 0.00042104566819034517\n",
      "Epoch: 26/100 | Loss: 0.0003875724505633116\n",
      "Epoch: 27/100 | Loss: 0.00032372321584261954\n",
      "Epoch: 28/100 | Loss: 0.00012928113574162126\n",
      "Epoch: 29/100 | Loss: 0.00028202711837366223\n",
      "Epoch: 30/100 | Loss: 0.0001424779329681769\n",
      "Epoch: 31/100 | Loss: 0.00014961212582420558\n",
      "Epoch: 32/100 | Loss: 0.00040514228749088943\n",
      "Epoch: 33/100 | Loss: 0.00021820022084284574\n",
      "Epoch: 34/100 | Loss: 0.00018751992320176214\n",
      "Epoch: 35/100 | Loss: 0.00014031432510819286\n",
      "Epoch: 36/100 | Loss: 0.00020919551025144756\n",
      "Epoch: 37/100 | Loss: 0.0003153526340611279\n",
      "Epoch: 38/100 | Loss: 0.0002787780249491334\n",
      "Epoch: 39/100 | Loss: 7.26007274352014e-05\n",
      "Epoch: 40/100 | Loss: 0.000191686354810372\n",
      "Epoch: 41/100 | Loss: 0.00011936794908251613\n",
      "Epoch: 42/100 | Loss: 0.00011172865924891084\n",
      "Epoch: 43/100 | Loss: 0.0001788561639841646\n",
      "Epoch: 44/100 | Loss: 0.00019357747805770487\n",
      "Epoch: 45/100 | Loss: 0.00016979643260128796\n",
      "Epoch: 46/100 | Loss: 7.828355592209846e-05\n",
      "Epoch: 47/100 | Loss: 0.00013758808199781924\n",
      "Epoch: 48/100 | Loss: 0.00014591272338293493\n",
      "Epoch: 49/100 | Loss: 0.00010057545296149328\n",
      "Epoch: 50/100 | Loss: 0.00012989030801691115\n",
      "Epoch: 51/100 | Loss: 0.00010653095523593947\n",
      "Epoch: 52/100 | Loss: 7.007723615970463e-05\n",
      "Epoch: 53/100 | Loss: 8.677490404807031e-05\n",
      "Epoch: 54/100 | Loss: 0.00013190916797611862\n",
      "Epoch: 55/100 | Loss: 7.505842222599313e-05\n",
      "Epoch: 56/100 | Loss: 9.581872291164473e-05\n",
      "Epoch: 57/100 | Loss: 0.0001591730397194624\n",
      "Epoch: 58/100 | Loss: 7.670715422136709e-05\n",
      "Epoch: 59/100 | Loss: 0.00013321211736183614\n",
      "Epoch: 60/100 | Loss: 0.00011292762064840645\n",
      "Epoch: 61/100 | Loss: 8.743892249185592e-05\n",
      "Epoch: 62/100 | Loss: 9.612195572117344e-05\n",
      "Epoch: 63/100 | Loss: 5.652568142977543e-05\n",
      "Epoch: 64/100 | Loss: 9.292379399994388e-05\n",
      "Epoch: 65/100 | Loss: 3.481876046862453e-05\n",
      "Epoch: 66/100 | Loss: 9.557362500345334e-05\n",
      "Epoch: 67/100 | Loss: 5.8589586842572317e-05\n",
      "Epoch: 68/100 | Loss: 0.000125215869047679\n",
      "Epoch: 69/100 | Loss: 4.5398086513159797e-05\n",
      "Epoch: 70/100 | Loss: 0.00018921832088381052\n",
      "Epoch: 71/100 | Loss: 8.359070488950238e-05\n",
      "Epoch: 72/100 | Loss: 4.8183595936279744e-05\n",
      "Epoch: 73/100 | Loss: 7.376460416708142e-05\n",
      "Epoch: 74/100 | Loss: 0.00016187534492928535\n",
      "Epoch: 75/100 | Loss: 9.687495185062289e-05\n",
      "Epoch: 76/100 | Loss: 6.416878750314936e-05\n",
      "Epoch: 77/100 | Loss: 0.00017314318392891437\n",
      "Epoch: 78/100 | Loss: 8.839398651616648e-05\n",
      "Epoch: 79/100 | Loss: 0.0001227625471074134\n",
      "Epoch: 80/100 | Loss: 4.484602322918363e-05\n",
      "Epoch: 81/100 | Loss: 5.487325688591227e-05\n",
      "Epoch: 82/100 | Loss: 6.229617429198697e-05\n",
      "Epoch: 83/100 | Loss: 3.6954032111680135e-05\n",
      "Epoch: 84/100 | Loss: 3.138760075671598e-05\n",
      "Epoch: 85/100 | Loss: 4.645107765099965e-05\n",
      "Epoch: 86/100 | Loss: 0.0001276255352422595\n",
      "Epoch: 87/100 | Loss: 3.7561556382570416e-05\n",
      "Epoch: 88/100 | Loss: 9.577471064403653e-05\n",
      "Epoch: 89/100 | Loss: 0.00011372091830708086\n",
      "Epoch: 90/100 | Loss: 4.9812144425231963e-05\n",
      "Epoch: 91/100 | Loss: 4.363375046523288e-05\n",
      "Epoch: 92/100 | Loss: 4.5704735384788364e-05\n",
      "Epoch: 93/100 | Loss: 8.45400572870858e-05\n",
      "Epoch: 94/100 | Loss: 3.266038038418628e-05\n",
      "Epoch: 95/100 | Loss: 3.663787356344983e-05\n",
      "Epoch: 96/100 | Loss: 0.0001146659124060534\n",
      "Epoch: 97/100 | Loss: 6.719031080137938e-05\n",
      "Epoch: 98/100 | Loss: 4.4753338443115354e-05\n",
      "Epoch: 99/100 | Loss: 7.849418761907145e-05\n"
     ]
    }
   ],
   "source": [
    "for epoch in range(epochs):\n",
    "        for i, (X, y) in enumerate(train_loader):\n",
    "            X = X.to(device)\n",
    "            y = y.to(device)\n",
    "\n",
    "            y_hat = model(X)\n",
    "            loss = criterion(y_hat, y)\n",
    "\n",
    "            optimizer.zero_grad()\n",
    "            loss.backward()\n",
    "            optimizer.step()\n",
    "\n",
    "        print(f\"Epoch: {epoch}/{epochs} | Loss: {loss.item()}\")"
   ]
  },
  {
   "cell_type": "code",
   "execution_count": null,
   "id": "e84404e5",
   "metadata": {},
   "outputs": [],
   "source": [
    "model.to('cpu')\n",
    "torch.save(model,'./model')"
   ]
  },
  {
   "cell_type": "code",
   "execution_count": 6,
   "id": "c5b4ec81",
   "metadata": {},
   "outputs": [],
   "source": [
    "loaded_model = torch.load('./model')"
   ]
  },
  {
   "cell_type": "code",
   "execution_count": 7,
   "id": "fa57abce",
   "metadata": {},
   "outputs": [],
   "source": [
    "test_dataset = datasets.ImageFolder(root='./data/test_images', transform=transform)\n",
    "test_loader = DataLoader(test_dataset, batch_size=batch_size, shuffle=True, num_workers=4)"
   ]
  },
  {
   "cell_type": "code",
   "execution_count": 10,
   "id": "d9030a2d",
   "metadata": {},
   "outputs": [
    {
     "data": {
      "text/plain": [
       "CNN(\n",
       "  (conv1): Conv2d(3, 32, kernel_size=(3, 3), stride=(1, 1), padding=(1, 1))\n",
       "  (conv2): Conv2d(32, 32, kernel_size=(3, 3), stride=(1, 1), padding=(1, 1))\n",
       "  (maxpool1): MaxPool2d(kernel_size=2, stride=2, padding=0, dilation=1, ceil_mode=False)\n",
       "  (conv3): Conv2d(32, 64, kernel_size=(9, 9), stride=(1, 1), padding=(3, 3))\n",
       "  (conv4): Conv2d(64, 64, kernel_size=(9, 9), stride=(1, 1), padding=(3, 3))\n",
       "  (maxpool2): MaxPool2d(kernel_size=2, stride=2, padding=0, dilation=1, ceil_mode=False)\n",
       "  (fc1): Linear(in_features=246016, out_features=256, bias=True)\n",
       "  (relu1): ReLU()\n",
       "  (fc2): Linear(in_features=256, out_features=16, bias=True)\n",
       ")"
      ]
     },
     "execution_count": 10,
     "metadata": {},
     "output_type": "execute_result"
    }
   ],
   "source": [
    "correct = 0\n",
    "total = 0\n",
    "loaded_model.to(device)\n",
    "loaded_model.eval()"
   ]
  },
  {
   "cell_type": "code",
   "execution_count": 12,
   "id": "c3ff2f37",
   "metadata": {},
   "outputs": [
    {
     "name": "stdout",
     "output_type": "stream",
     "text": [
      "Accuracy of the CNN on the test data is: 57.94%\n"
     ]
    }
   ],
   "source": [
    "with torch.no_grad():\n",
    "    for X_test, y_test in test_loader:\n",
    "        X_test = X_test.to(device)\n",
    "        y_test = y_test.to(device)\n",
    "\n",
    "        outputs = loaded_model(X_test)\n",
    "        _, predicted = torch.max(outputs.data, 1)\n",
    "\n",
    "        total += y_test.size(0)\n",
    "\n",
    "        correct += (predicted == y_test).sum().item()\n",
    "\n",
    "\n",
    "accuracy = 100 * correct / total\n",
    "print(f'Accuracy of the CNN on the test data is: {accuracy:.2f}%')"
   ]
  },
  {
   "cell_type": "code",
   "execution_count": 13,
   "id": "5b41c404",
   "metadata": {},
   "outputs": [],
   "source": [
    "from PIL import Image"
   ]
  },
  {
   "cell_type": "code",
   "execution_count": 44,
   "id": "142079b9",
   "metadata": {},
   "outputs": [
    {
     "data": {
      "image/jpeg": "[encoded data removed]",
      "image/png": "[encoded data removed]",
      "text/plain": [
       "<PIL.JpegImagePlugin.JpegImageFile image mode=RGB size=200x200>"
      ]
     },
     "execution_count": 44,
     "metadata": {},
     "output_type": "execute_result"
    }
   ],
   "source": [
    "test_image_path = 'full_Images\\B\\B1532.jpg'\n",
    "test_image = Image.open(test_image_path)\n",
    "test_image"
   ]
  },
  {
   "cell_type": "code",
   "execution_count": 45,
   "id": "03c25b63",
   "metadata": {},
   "outputs": [
    {
     "name": "stdout",
     "output_type": "stream",
     "text": [
      "[[ 36.984802  30.454441  28.57648  -40.357544 -20.1006    12.797195\n",
      "  -24.150127  43.803223  15.785039  28.067026  16.378668 -43.757137\n",
      "   -8.736609 -23.039242 -76.29865   36.771175]]\n"
     ]
    }
   ],
   "source": [
    "input_tensor = transform(test_image).unsqueeze(0)\n",
    "input_tensor = input_tensor.to(device)\n",
    "with torch.no_grad():\n",
    "    output = loaded_model(input_tensor)\n",
    "\n",
    "\n",
    "softmax = torch.nn.Softmax(dim=1)\n",
    "probabilities = softmax(output)\n",
    "output_numpy = output.cpu().numpy()\n",
    "print(output_numpy)"
   ]
  },
  {
   "cell_type": "code",
   "execution_count": 46,
   "id": "692c9fda",
   "metadata": {},
   "outputs": [
    {
     "name": "stdout",
     "output_type": "stream",
     "text": [
      "The predicted letter is: 7\n"
     ]
    }
   ],
   "source": [
    "probabilities = torch.nn.functional.softmax(output, dim=1)\n",
    "predicted_class = torch.argmax(probabilities, dim=1).item()\n",
    "print(f\"The predicted letter is: {predicted_class}\")"
   ]
  }
 ],
 "metadata": {
  "kernelspec": {
   "display_name": "Python 3",
   "language": "python",
   "name": "python3"
  },
  "language_info": {
   "codemirror_mode": {
    "name": "ipython",
    "version": 3
   },
   "file_extension": ".py",
   "mimetype": "text/x-python",
   "name": "python",
   "nbconvert_exporter": "python",
   "pygments_lexer": "ipython3",
   "version": "3.11.7"
  }
 },
 "nbformat": 4,
 "nbformat_minor": 5
}
