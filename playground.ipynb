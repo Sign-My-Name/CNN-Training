{
 "cells": [
  {
   "cell_type": "code",
   "execution_count": 1,
   "id": "71c76d48",
   "metadata": {},
   "outputs": [
    {
     "name": "stdout",
     "output_type": "stream",
     "text": [
      "Fri Apr  5 02:19:51 2024       \n",
      "+-----------------------------------------------------------------------------------------+\n",
      "| NVIDIA-SMI 550.65                 Driver Version: 551.86         CUDA Version: 12.4     |\n",
      "|-----------------------------------------+------------------------+----------------------+\n",
      "| GPU  Name                 Persistence-M | Bus-Id          Disp.A | Volatile Uncorr. ECC |\n",
      "| Fan  Temp   Perf          Pwr:Usage/Cap |           Memory-Usage | GPU-Util  Compute M. |\n",
      "|                                         |                        |               MIG M. |\n",
      "|=========================================+========================+======================|\n",
      "|   0  NVIDIA GeForce RTX 4070 ...    On  |   00000000:01:00.0  On |                  N/A |\n",
      "| N/A   48C    P8              4W /  114W |     706MiB /   8188MiB |      7%      Default |\n",
      "|                                         |                        |                  N/A |\n",
      "+-----------------------------------------+------------------------+----------------------+\n",
      "                                                                                         \n",
      "+-----------------------------------------------------------------------------------------+\n",
      "| Processes:                                                                              |\n",
      "|  GPU   GI   CI        PID   Type   Process name                              GPU Memory |\n",
      "|        ID   ID                                                               Usage      |\n",
      "|=========================================================================================|\n",
      "|  No running processes found                                                             |\n",
      "+-----------------------------------------------------------------------------------------+\n"
     ]
    }
   ],
   "source": [
    "!nvidia-smi\n"
   ]
  },
  {
   "cell_type": "code",
   "execution_count": 2,
   "id": "71c45fe5ba300d9a",
   "metadata": {
    "ExecuteTime": {
     "end_time": "2024-03-31T20:11:26.986019Z",
     "start_time": "2024-03-31T20:11:14.821310Z"
    },
    "collapsed": false
   },
   "outputs": [],
   "source": [
    "import torch\n",
    "import torch.nn as nn\n",
    "from torchvision import datasets, transforms\n",
    "from torch.utils.data import DataLoader\n",
    "from sklearn.model_selection import train_test_split\n",
    "\n",
    "from cnn import CNN"
   ]
  },
  {
   "cell_type": "code",
   "execution_count": 3,
   "id": "a7c93a3a",
   "metadata": {},
   "outputs": [
    {
     "name": "stdout",
     "output_type": "stream",
     "text": [
      "NVIDIA GeForce RTX 4070 Laptop GPU\n",
      "2.2.2+cu121\n",
      "12.1\n",
      "tensor([-0.8227], device='cuda:0')\n"
     ]
    }
   ],
   "source": [
    "print(torch.cuda.get_device_name())\n",
    "print(torch.__version__)\n",
    "print(torch.version.cuda)\n",
    "x = torch.randn(1).cuda()\n",
    "print(x)"
   ]
  },
  {
   "cell_type": "code",
   "execution_count": 4,
   "id": "c7e429e7f3129f34",
   "metadata": {
    "ExecuteTime": {
     "start_time": "2024-03-31T17:24:09.513136Z"
    },
    "collapsed": false
   },
   "outputs": [],
   "source": [
    "transform = transforms.Compose([\n",
    "    transforms.Grayscale(num_output_channels=1),\n",
    "    transforms.ToTensor(),\n",
    "    ])\n",
    "\n",
    "train_dataset = datasets.ImageFolder(root='./data/transformed', transform=transform)"
   ]
  },
  {
   "cell_type": "code",
   "execution_count": 5,
   "id": "94771751",
   "metadata": {},
   "outputs": [],
   "source": [
    "X = []  # to store the image tensors\n",
    "y = []  # to store the labels\n",
    "\n",
    "for img, label in train_dataset:\n",
    "    X.append(img)\n",
    "    y.append(label)\n",
    "\n",
    "# Convert the lists to a tensor and a LongTensor, respectively, if needed\n",
    "X = torch.stack(X)\n",
    "y = torch.LongTensor(y)\n"
   ]
  },
  {
   "cell_type": "code",
   "execution_count": 6,
   "id": "2bc898c1",
   "metadata": {},
   "outputs": [],
   "source": [
    "X_train, X_test, y_train, y_test = train_test_split(X, y, test_size=0.2, random_state=42)"
   ]
  },
  {
   "cell_type": "code",
   "execution_count": 7,
   "id": "a68357c16bd0eed0",
   "metadata": {
    "collapsed": false
   },
   "outputs": [
    {
     "name": "stdout",
     "output_type": "stream",
     "text": [
      "cuda\n"
     ]
    }
   ],
   "source": [
    "\n",
    "device = 'cuda' if torch.cuda.is_available() else 'cpu'\n",
    "print(device)"
   ]
  },
  {
   "cell_type": "code",
   "execution_count": 8,
   "id": "e80c211c5651bde6",
   "metadata": {
    "collapsed": false
   },
   "outputs": [],
   "source": [
    "#train_loader = DataLoader(train_dataset, batch_size=batch_size, shuffle=True, num_workers=4)\n"
   ]
  },
  {
   "cell_type": "code",
   "execution_count": 9,
   "metadata": {},
   "outputs": [
    {
     "name": "stdout",
     "output_type": "stream",
     "text": [
      "hello world\n"
     ]
    },
    {
     "data": {
      "text/plain": [
       "CNN(\n",
       "  (feature_extractor): Sequential(\n",
       "    (0): Conv2d(1, 64, kernel_size=(3, 3), stride=(1, 1), padding=(1, 1))\n",
       "    (1): ReLU()\n",
       "    (2): BatchNorm2d(64, eps=1e-05, momentum=0.1, affine=True, track_running_stats=True)\n",
       "    (3): MaxPool2d(kernel_size=2, stride=2, padding=0, dilation=1, ceil_mode=False)\n",
       "    (4): Conv2d(64, 128, kernel_size=(3, 3), stride=(1, 1), padding=(1, 1))\n",
       "    (5): ReLU()\n",
       "    (6): Dropout(p=0.5, inplace=False)\n",
       "    (7): BatchNorm2d(128, eps=1e-05, momentum=0.1, affine=True, track_running_stats=True)\n",
       "    (8): MaxPool2d(kernel_size=2, stride=2, padding=0, dilation=1, ceil_mode=False)\n",
       "    (9): Conv2d(128, 512, kernel_size=(3, 3), stride=(1, 1), padding=(1, 1))\n",
       "    (10): ReLU()\n",
       "    (11): Dropout(p=0.5, inplace=False)\n",
       "    (12): BatchNorm2d(512, eps=1e-05, momentum=0.1, affine=True, track_running_stats=True)\n",
       "    (13): MaxPool2d(kernel_size=2, stride=2, padding=0, dilation=1, ceil_mode=False)\n",
       "    (14): Conv2d(512, 64, kernel_size=(3, 3), stride=(1, 1), padding=(1, 1))\n",
       "    (15): ReLU()\n",
       "    (16): Dropout(p=0.5, inplace=False)\n",
       "    (17): BatchNorm2d(64, eps=1e-05, momentum=0.1, affine=True, track_running_stats=True)\n",
       "    (18): MaxPool2d(kernel_size=2, stride=2, padding=0, dilation=1, ceil_mode=False)\n",
       "    (19): Conv2d(64, 32, kernel_size=(3, 3), stride=(1, 1), padding=(1, 1))\n",
       "    (20): ReLU()\n",
       "    (21): Dropout(p=0.5, inplace=False)\n",
       "    (22): BatchNorm2d(32, eps=1e-05, momentum=0.1, affine=True, track_running_stats=True)\n",
       "    (23): MaxPool2d(kernel_size=2, stride=2, padding=0, dilation=1, ceil_mode=False)\n",
       "  )\n",
       "  (classifier): Sequential(\n",
       "    (0): Linear(in_features=32, out_features=512, bias=True)\n",
       "    (1): Dropout(p=0.5, inplace=False)\n",
       "    (2): Linear(in_features=512, out_features=16, bias=True)\n",
       "    (3): Softmax(dim=1)\n",
       "  )\n",
       ")"
      ]
     },
     "execution_count": 9,
     "metadata": {},
     "output_type": "execute_result"
    }
   ],
   "source": [
    "model = CNN(16)\n",
    "model.to(device)"
   ]
  },
  {
   "cell_type": "code",
   "execution_count": 31,
   "id": "cada46be",
   "metadata": {},
   "outputs": [
    {
     "name": "stdout",
     "output_type": "stream",
     "text": [
      "Epoch: 1/50 | Loss: 2.162205696105957\n",
      "Epoch: 2/50 | Loss: 2.1532626152038574\n",
      "Epoch: 3/50 | Loss: 2.0746357440948486\n",
      "Epoch: 4/50 | Loss: 2.1022379398345947\n",
      "Epoch: 5/50 | Loss: 1.9333223104476929\n",
      "Epoch: 6/50 | Loss: 1.9891912937164307\n",
      "Epoch: 7/50 | Loss: 2.0935170650482178\n",
      "Epoch: 8/50 | Loss: 2.0927276611328125\n",
      "Epoch: 9/50 | Loss: 2.030424118041992\n",
      "Epoch: 10/50 | Loss: 1.9370970726013184\n",
      "Epoch: 11/50 | Loss: 1.9664620161056519\n",
      "Epoch: 12/50 | Loss: 2.0935192108154297\n",
      "Epoch: 13/50 | Loss: 2.0009677410125732\n",
      "Epoch: 14/50 | Loss: 2.081650733947754\n",
      "Epoch: 15/50 | Loss: 2.030170440673828\n",
      "Epoch: 16/50 | Loss: 2.0308444499969482\n",
      "Epoch: 17/50 | Loss: 2.093583106994629\n",
      "Epoch: 18/50 | Loss: 2.030856132507324\n",
      "Epoch: 19/50 | Loss: 1.9984254837036133\n",
      "Epoch: 20/50 | Loss: 2.1245276927948\n",
      "Epoch: 21/50 | Loss: 2.1870927810668945\n",
      "Epoch: 22/50 | Loss: 2.0095741748809814\n",
      "Epoch: 23/50 | Loss: 1.9714547395706177\n",
      "Epoch: 24/50 | Loss: 2.0620920658111572\n",
      "Epoch: 25/50 | Loss: 1.9683502912521362\n",
      "Epoch: 26/50 | Loss: 1.9370965957641602\n",
      "Epoch: 27/50 | Loss: 1.9994503259658813\n",
      "Epoch: 28/50 | Loss: 2.0315101146698\n",
      "Epoch: 29/50 | Loss: 1.9995964765548706\n",
      "Epoch: 30/50 | Loss: 2.0620946884155273\n",
      "Epoch: 31/50 | Loss: 2.0621092319488525\n",
      "Epoch: 32/50 | Loss: 2.0620949268341064\n",
      "Epoch: 33/50 | Loss: 1.9683459997177124\n",
      "Epoch: 34/50 | Loss: 2.0308001041412354\n",
      "Epoch: 35/50 | Loss: 1.9995965957641602\n",
      "Epoch: 36/50 | Loss: 2.124596357345581\n",
      "Epoch: 37/50 | Loss: 2.1244449615478516\n",
      "Epoch: 38/50 | Loss: 2.0763845443725586\n",
      "Epoch: 39/50 | Loss: 2.090364456176758\n",
      "Epoch: 40/50 | Loss: 1.9995965957641602\n",
      "Epoch: 41/50 | Loss: 1.999596118927002\n",
      "Epoch: 42/50 | Loss: 1.9370965957641602\n",
      "Epoch: 43/50 | Loss: 1.9058465957641602\n",
      "Epoch: 44/50 | Loss: 1.9957611560821533\n",
      "Epoch: 45/50 | Loss: 1.9995965957641602\n",
      "Epoch: 46/50 | Loss: 1.9672218561172485\n",
      "Epoch: 47/50 | Loss: 2.014941930770874\n",
      "Epoch: 48/50 | Loss: 2.0567095279693604\n",
      "Epoch: 49/50 | Loss: 1.9373997449874878\n",
      "Epoch: 50/50 | Loss: 1.9683605432510376\n"
     ]
    }
   ],
   "source": [
    "model.train_model(X_train, y_train)"
   ]
  },
  {
   "cell_type": "code",
   "execution_count": 32,
   "id": "e84404e5",
   "metadata": {},
   "outputs": [],
   "source": [
    "model.to('cpu')\n",
    "torch.save(model,'./model')"
   ]
  },
  {
   "cell_type": "code",
   "execution_count": 33,
   "id": "c5b4ec81",
   "metadata": {},
   "outputs": [],
   "source": [
    "loaded_model = torch.load('./model')"
   ]
  },
  {
   "cell_type": "code",
   "execution_count": null,
   "id": "fa57abce",
   "metadata": {},
   "outputs": [],
   "source": [
    "#test_dataset = datasets.ImageFolder(root='./data/test_images', transform=transform)\n",
    "#test_loader = DataLoader(test_dataset, batch_size=batch_size, shuffle=True, num_workers=4)"
   ]
  },
  {
   "cell_type": "code",
   "execution_count": 34,
   "id": "d9030a2d",
   "metadata": {},
   "outputs": [
    {
     "data": {
      "text/plain": [
       "CNN(\n",
       "  (feature_extractor): Sequential(\n",
       "    (0): Conv2d(1, 64, kernel_size=(3, 3), stride=(1, 1), padding=(1, 1))\n",
       "    (1): ReLU()\n",
       "    (2): BatchNorm2d(64, eps=1e-05, momentum=0.1, affine=True, track_running_stats=True)\n",
       "    (3): MaxPool2d(kernel_size=2, stride=2, padding=0, dilation=1, ceil_mode=False)\n",
       "    (4): Conv2d(64, 128, kernel_size=(3, 3), stride=(1, 1), padding=(1, 1))\n",
       "    (5): ReLU()\n",
       "    (6): Dropout(p=0.5, inplace=False)\n",
       "    (7): BatchNorm2d(128, eps=1e-05, momentum=0.1, affine=True, track_running_stats=True)\n",
       "    (8): MaxPool2d(kernel_size=2, stride=2, padding=0, dilation=1, ceil_mode=False)\n",
       "    (9): Conv2d(128, 512, kernel_size=(3, 3), stride=(1, 1), padding=(1, 1))\n",
       "    (10): ReLU()\n",
       "    (11): Dropout(p=0.5, inplace=False)\n",
       "    (12): BatchNorm2d(512, eps=1e-05, momentum=0.1, affine=True, track_running_stats=True)\n",
       "    (13): MaxPool2d(kernel_size=2, stride=2, padding=0, dilation=1, ceil_mode=False)\n",
       "    (14): Conv2d(512, 64, kernel_size=(3, 3), stride=(1, 1), padding=(1, 1))\n",
       "    (15): ReLU()\n",
       "    (16): Dropout(p=0.5, inplace=False)\n",
       "    (17): BatchNorm2d(64, eps=1e-05, momentum=0.1, affine=True, track_running_stats=True)\n",
       "    (18): MaxPool2d(kernel_size=2, stride=2, padding=0, dilation=1, ceil_mode=False)\n",
       "    (19): Conv2d(64, 32, kernel_size=(3, 3), stride=(1, 1), padding=(1, 1))\n",
       "    (20): ReLU()\n",
       "    (21): Dropout(p=0.5, inplace=False)\n",
       "    (22): BatchNorm2d(32, eps=1e-05, momentum=0.1, affine=True, track_running_stats=True)\n",
       "    (23): MaxPool2d(kernel_size=2, stride=2, padding=0, dilation=1, ceil_mode=False)\n",
       "  )\n",
       "  (classifier): Sequential(\n",
       "    (0): Linear(in_features=32, out_features=512, bias=True)\n",
       "    (1): Dropout(p=0.5, inplace=False)\n",
       "    (2): Linear(in_features=512, out_features=16, bias=True)\n",
       "    (3): Softmax(dim=1)\n",
       "  )\n",
       ")"
      ]
     },
     "execution_count": 34,
     "metadata": {},
     "output_type": "execute_result"
    }
   ],
   "source": [
    "correct = 0\n",
    "total = 0\n",
    "loaded_model.to(device)"
   ]
  },
  {
   "cell_type": "code",
   "execution_count": 36,
   "id": "e0e34e08",
   "metadata": {},
   "outputs": [],
   "source": [
    "y_pred = loaded_model.predict(X_test) # Only Test "
   ]
  },
  {
   "cell_type": "code",
   "execution_count": 52,
   "id": "0606b3cc",
   "metadata": {},
   "outputs": [
    {
     "data": {
      "text/plain": [
       "0.6847916666666667"
      ]
     },
     "execution_count": 52,
     "metadata": {},
     "output_type": "execute_result"
    }
   ],
   "source": [
    "((torch.argmax(y_pred,1)==y_test).sum().item())/len(y_test)"
   ]
  },
  {
   "cell_type": "code",
   "execution_count": null,
   "id": "c3ff2f37",
   "metadata": {},
   "outputs": [],
   "source": [
    "# with torch.no_grad():\n",
    "#     for X_test, y_test in test_loader:\n",
    "#         X_test = X_test.to(device)\n",
    "#         y_test = y_test.to(device)\n",
    "\n",
    "#         outputs = loaded_model(X_test)\n",
    "#         _, predicted = torch.max(outputs.data, 1)\n",
    "\n",
    "#         total += y_test.size(0)\n",
    "\n",
    "#         correct += (predicted == y_test).sum().item()\n",
    "\n",
    "\n",
    "# accuracy = 100 * correct / total\n",
    "# print(f'Accuracy of the CNN on the test data is: {accuracy:.2f}%')"
   ]
  },
  {
   "cell_type": "code",
   "execution_count": null,
   "id": "5b41c404",
   "metadata": {},
   "outputs": [],
   "source": [
    "from PIL import Image"
   ]
  },
  {
   "cell_type": "code",
   "execution_count": null,
   "id": "142079b9",
   "metadata": {},
   "outputs": [],
   "source": [
    "test_image_path = 'full_Images\\B\\B1532.jpg'\n",
    "test_image = Image.open(test_image_path)\n",
    "test_image"
   ]
  },
  {
   "cell_type": "code",
   "execution_count": null,
   "id": "03c25b63",
   "metadata": {},
   "outputs": [],
   "source": [
    "input_tensor = transform(test_image).unsqueeze(0)\n",
    "input_tensor = input_tensor.to(device)\n",
    "with torch.no_grad():\n",
    "    output = loaded_model(input_tensor)\n",
    "\n",
    "\n",
    "softmax = torch.nn.Softmax(dim=1)\n",
    "probabilities = softmax(output)\n",
    "output_numpy = output.cpu().numpy()\n",
    "print(output_numpy)"
   ]
  },
  {
   "cell_type": "code",
   "execution_count": null,
   "id": "692c9fda",
   "metadata": {},
   "outputs": [],
   "source": [
    "probabilities = torch.nn.functional.softmax(output, dim=1)\n",
    "predicted_class = torch.argmax(probabilities, dim=1).item()\n",
    "print(f\"The predicted letter is: {predicted_class}\")"
   ]
  }
 ],
 "metadata": {
  "kernelspec": {
   "display_name": "Python 3",
   "language": "python",
   "name": "python3"
  },
  "language_info": {
   "codemirror_mode": {
    "name": "ipython",
    "version": 3
   },
   "file_extension": ".py",
   "mimetype": "text/x-python",
   "name": "python",
   "nbconvert_exporter": "python",
   "pygments_lexer": "ipython3",
   "version": "3.10.12"
  }
 },
 "nbformat": 4,
 "nbformat_minor": 5
}
